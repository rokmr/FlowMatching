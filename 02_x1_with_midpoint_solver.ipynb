{
 "cells": [
  {
   "cell_type": "code",
   "execution_count": 8,
   "metadata": {},
   "outputs": [
    {
     "ename": "TypeError",
     "evalue": "__init__() missing 1 required positional argument: 'model'",
     "output_type": "error",
     "traceback": [
      "\u001b[0;31m---------------------------------------------------------------------------\u001b[0m",
      "\u001b[0;31mTypeError\u001b[0m                                 Traceback (most recent call last)",
      "Cell \u001b[0;32mIn[8], line 16\u001b[0m\n\u001b[1;32m     13\u001b[0m         t \u001b[38;5;241m=\u001b[39m t\u001b[38;5;241m.\u001b[39mview(\u001b[38;5;241m-\u001b[39m\u001b[38;5;241m1\u001b[39m, \u001b[38;5;241m1\u001b[39m)\u001b[38;5;241m.\u001b[39mexpand(\u001b[38;5;241m*\u001b[39mx\u001b[38;5;241m.\u001b[39mshape[:\u001b[38;5;241m-\u001b[39m\u001b[38;5;241m1\u001b[39m], \u001b[38;5;241m-\u001b[39m\u001b[38;5;241m1\u001b[39m)\n\u001b[1;32m     14\u001b[0m         \u001b[38;5;28;01mreturn\u001b[39;00m \u001b[38;5;28mself\u001b[39m\u001b[38;5;241m.\u001b[39mnet(torch\u001b[38;5;241m.\u001b[39mcat((t, x), \u001b[38;5;241m-\u001b[39m\u001b[38;5;241m1\u001b[39m))\n\u001b[0;32m---> 16\u001b[0m velocity_model \u001b[38;5;241m=\u001b[39m \u001b[43mFlow\u001b[49m\u001b[43m(\u001b[49m\u001b[43m)\u001b[49m\n\u001b[1;32m     18\u001b[0m \u001b[38;5;66;03m# Optimize the model parameters s.t. model(x_t, t) = ut(Xt)\u001b[39;00m\n\u001b[1;32m     19\u001b[0m batch_size, data_dim \u001b[38;5;241m=\u001b[39m \u001b[38;5;241m200\u001b[39m, \u001b[38;5;241m2\u001b[39m\n",
      "Cell \u001b[0;32mIn[8], line 7\u001b[0m, in \u001b[0;36mFlow.__init__\u001b[0;34m(self, dim, h)\u001b[0m\n\u001b[1;32m      6\u001b[0m \u001b[38;5;28;01mdef\u001b[39;00m \u001b[38;5;21m__init__\u001b[39m(\u001b[38;5;28mself\u001b[39m, dim\u001b[38;5;241m=\u001b[39m\u001b[38;5;241m2\u001b[39m, h\u001b[38;5;241m=\u001b[39m\u001b[38;5;241m64\u001b[39m):\n\u001b[0;32m----> 7\u001b[0m     \u001b[38;5;28;43msuper\u001b[39;49m\u001b[43m(\u001b[49m\u001b[43m)\u001b[49m\u001b[38;5;241;43m.\u001b[39;49m\u001b[38;5;21;43m__init__\u001b[39;49m\u001b[43m(\u001b[49m\u001b[43m)\u001b[49m\n\u001b[1;32m      8\u001b[0m     \u001b[38;5;28mself\u001b[39m\u001b[38;5;241m.\u001b[39mnet \u001b[38;5;241m=\u001b[39m torch\u001b[38;5;241m.\u001b[39mnn\u001b[38;5;241m.\u001b[39mSequential(\n\u001b[1;32m      9\u001b[0m         torch\u001b[38;5;241m.\u001b[39mnn\u001b[38;5;241m.\u001b[39mLinear(dim \u001b[38;5;241m+\u001b[39m \u001b[38;5;241m1\u001b[39m, h), torch\u001b[38;5;241m.\u001b[39mnn\u001b[38;5;241m.\u001b[39mELU(),\n\u001b[1;32m     10\u001b[0m         torch\u001b[38;5;241m.\u001b[39mnn\u001b[38;5;241m.\u001b[39mLinear(h, dim))\n",
      "\u001b[0;31mTypeError\u001b[0m: __init__() missing 1 required positional argument: 'model'"
     ]
    }
   ],
   "source": [
    "import torch\n",
    "from flow_matching.solver import ODESolver\n",
    "from flow_matching.utils import ModelWrapper\n",
    "\n",
    "class Flow(ModelWrapper):\n",
    "    def __init__(self, dim=2, h=64):\n",
    "        super().__init__()\n",
    "        self.net = torch.nn.Sequential(\n",
    "            torch.nn.Linear(dim + 1, h), torch.nn.ELU(),\n",
    "            torch.nn.Linear(h, dim))\n",
    "\n",
    "    def forward(self, x, t):\n",
    "        t = t.view(-1, 1).expand(*x.shape[:-1], -1)\n",
    "        return self.net(torch.cat((t, x), -1))\n",
    "\n",
    "velocity_model = Flow()\n",
    "\n",
    "# Optimize the model parameters s.t. model(x_t, t) = ut(Xt)\n",
    "batch_size, data_dim = 200, 2\n",
    "\n",
    "x_0 = torch.randn(batch_size, *data_dim) # Specify the initial condition\n",
    "\n",
    "solver = ODESolver(velocity_model=velocity_model)\n",
    "num_steps = 100\n",
    "x_1 = solver.sample(x_init=x_0, method='midpoint', step_size=1.0 / num_steps)"
   ]
  },
  {
   "cell_type": "code",
   "execution_count": null,
   "metadata": {},
   "outputs": [],
   "source": []
  },
  {
   "cell_type": "code",
   "execution_count": null,
   "metadata": {},
   "outputs": [],
   "source": []
  }
 ],
 "metadata": {
  "kernelspec": {
   "display_name": "flow_matching",
   "language": "python",
   "name": "python3"
  },
  "language_info": {
   "codemirror_mode": {
    "name": "ipython",
    "version": 3
   },
   "file_extension": ".py",
   "mimetype": "text/x-python",
   "name": "python",
   "nbconvert_exporter": "python",
   "pygments_lexer": "ipython3",
   "version": "3.9.21"
  }
 },
 "nbformat": 4,
 "nbformat_minor": 2
}
